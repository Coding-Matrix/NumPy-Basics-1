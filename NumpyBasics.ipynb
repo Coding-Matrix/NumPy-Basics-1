{
  "nbformat": 4,
  "nbformat_minor": 0,
  "metadata": {
    "colab": {
      "name": "NumpyBasics.ipynb",
      "provenance": [],
      "collapsed_sections": [],
      "include_colab_link": true
    },
    "kernelspec": {
      "name": "python3",
      "display_name": "Python 3"
    }
  },
  "cells": [
    {
      "cell_type": "markdown",
      "metadata": {
        "id": "view-in-github",
        "colab_type": "text"
      },
      "source": [
        "<a href=\"https://colab.research.google.com/github/Coding-Matrix/NumPy-Basics-1/blob/master/NumpyBasics.ipynb\" target=\"_parent\"><img src=\"https://colab.research.google.com/assets/colab-badge.svg\" alt=\"Open In Colab\"/></a>"
      ]
    },
    {
      "cell_type": "markdown",
      "metadata": {
        "id": "6o0U2-6XWtLs",
        "colab_type": "text"
      },
      "source": [
        "# **Numpy Basics \\#1 Colab**\n"
      ]
    },
    {
      "cell_type": "markdown",
      "metadata": {
        "id": "HsiPOTldQ8-9",
        "colab_type": "text"
      },
      "source": [
        "The first thing that we need to do before we start is to **import numpy**, and we will do import it as np. "
      ]
    },
    {
      "cell_type": "code",
      "metadata": {
        "id": "5NEnvPHJRKv-",
        "colab_type": "code",
        "colab": {}
      },
      "source": [
        "import numpy as np  "
      ],
      "execution_count": 0,
      "outputs": []
    },
    {
      "cell_type": "markdown",
      "metadata": {
        "id": "kLUmmLDTRU89",
        "colab_type": "text"
      },
      "source": [
        "# 1-D Arrays\n",
        "Creating 1-D arrays is super straight forward, to create a numpy array, you can use the `np.array` function which takes in a **python list** as its argument, this function actually has quite a few keyword arguments, but the most common one is `dtype`. You can use `dtype` to manually cast the data type of the array. There are numerous different data types you can set this keyword argument to, if you want to find more you can check out https://docs.scipy.org/doc/numpy-1.13.0/reference/arrays.dtypes.html which has documentation to the `dtype` keyword argument at sci pi"
      ]
    },
    {
      "cell_type": "code",
      "metadata": {
        "id": "vknSo4kcRxyB",
        "colab_type": "code",
        "colab": {}
      },
      "source": [
        "arr = np.array([1, 2, 3], dtype=int)\n",
        "print(repr(arr))"
      ],
      "execution_count": 0,
      "outputs": []
    },
    {
      "cell_type": "markdown",
      "metadata": {
        "id": "RKXxXxSlR33k",
        "colab_type": "text"
      },
      "source": [
        "# Upcasting \n",
        "Upcasting occurs on arrays that contain **multiple data types**, if an array contains multiple data types then the data type will *upcast* to the highest type contained in that array, an example is if an array contains integers and floats, the array's data type will *upcast* into a float since that is the higher data type."
      ]
    },
    {
      "cell_type": "code",
      "metadata": {
        "id": "FWT6-kX9SbXe",
        "colab_type": "code",
        "colab": {}
      },
      "source": [
        "arrupcasting = np.array([1, 1.2, '3'])\n",
        "print(repr(arrupcasting))"
      ],
      "execution_count": 0,
      "outputs": []
    },
    {
      "cell_type": "markdown",
      "metadata": {
        "id": "J-LYb02LSi3Y",
        "colab_type": "text"
      },
      "source": [
        "In this example there is an array that contains integers, floats, and strings. The data type for this array upcasted to a string because that is the highest data type that is contained in this array. The U32 in the output just means that the data type is a little endian 32 bit string. You can find out more about endians [here](https://en.wikipedia.org/wiki/Endianness)"
      ]
    },
    {
      "cell_type": "markdown",
      "metadata": {
        "id": "I5yiv2d3TF8L",
        "colab_type": "text"
      },
      "source": [
        "# Changing data types\n",
        "You can also change the data type of an array using the `astype` function, and this function only takes in one required argument, and that is the data type you want to **convert** the array to."
      ]
    },
    {
      "cell_type": "code",
      "metadata": {
        "id": "RwBGlWjATtGw",
        "colab_type": "code",
        "colab": {}
      },
      "source": [
        "arrint = np.array([1, 2, 3])\n",
        "print(repr(arrint))"
      ],
      "execution_count": 0,
      "outputs": []
    },
    {
      "cell_type": "code",
      "metadata": {
        "id": "e6p7qSbOTv57",
        "colab_type": "code",
        "colab": {}
      },
      "source": [
        "arrfloat = arrint.astype(float)\n",
        "print(repr(arrfloat))\n",
        "print(arrfloat.dtype)"
      ],
      "execution_count": 0,
      "outputs": []
    },
    {
      "cell_type": "markdown",
      "metadata": {
        "id": "GbecdfacTxYM",
        "colab_type": "text"
      },
      "source": [
        "Here, I quickly created a numpy array with integers only, and I used the `print` function to see how it looks like after I created a new code cell and then, I used the `astype` function to **change** the data type of the array into a **float**, and then used the `print` function again to view it, as you can see that data type for this array has converted from **integer to a float**, you can also get the specific data type by printing its keyword argument with the arrays name followed by the arguments name like in the example\n"
      ]
    },
    {
      "cell_type": "markdown",
      "metadata": {
        "id": "4lEKVZRCUhL4",
        "colab_type": "text"
      },
      "source": [
        "# Numpy Placeholders\n",
        "*Placeholders* can be used in numpy when you don't have a value at a certain location of an array. To use a placeholder, you can just use the `np.nan` to take on the empty location of that array. Note that `np.nan` cannot take on integer values. Here is an example of how to use it:"
      ]
    },
    {
      "cell_type": "code",
      "metadata": {
        "id": "AzVBiKdgV0xV",
        "colab_type": "code",
        "colab": {}
      },
      "source": [
        "arrnpnan = np.array([1, 2, np.nan])\n",
        "print(repr(arrnpnan))"
      ],
      "execution_count": 0,
      "outputs": []
    },
    {
      "cell_type": "markdown",
      "metadata": {
        "id": "-9GFuWcrV30s",
        "colab_type": "text"
      },
      "source": [
        "In the example,I made an array that contains 1, 2, and `np.nan` as a placeholder for the third value, and then I used the `print` function to view my array in the output, the place holder comes out as nan, which simply *means not a number*, and just represents itself as *undefined*, and one more thing to note, the numbers in the output are **floats**, like I mentioned before, `np.nan` **can't take an integer value**, therefore the value *upcasts*.\n",
        "\n"
      ]
    },
    {
      "cell_type": "code",
      "metadata": {
        "id": "Xfo-dHL2yXmH",
        "colab_type": "code",
        "outputId": "87811343-f715-4ee3-c34d-ecb566790f70",
        "colab": {
          "base_uri": "https://localhost:8080/",
          "height": 51
        }
      },
      "source": [
        "randomarr = np.random.randint(2, high=6, size=(2, 2))\n",
        "print(randomarr)"
      ],
      "execution_count": 0,
      "outputs": [
        {
          "output_type": "stream",
          "text": [
            "[[3 2]\n",
            " [3 2]]\n"
          ],
          "name": "stdout"
        }
      ]
    }
  ]
}